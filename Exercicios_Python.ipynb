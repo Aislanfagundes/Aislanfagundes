{
  "nbformat": 4,
  "nbformat_minor": 0,
  "metadata": {
    "colab": {
      "name": "Exercicios Python.ipynb",
      "provenance": [],
      "authorship_tag": "ABX9TyOAlmnYqQtNs+h9qVZregVx",
      "include_colab_link": true
    },
    "kernelspec": {
      "name": "python3",
      "display_name": "Python 3"
    },
    "language_info": {
      "name": "python"
    }
  },
  "cells": [
    {
      "cell_type": "markdown",
      "metadata": {
        "id": "view-in-github",
        "colab_type": "text"
      },
      "source": [
        "<a href=\"https://colab.research.google.com/github/Aislanfagundes/Aislanfagundes/blob/main/Exercicios_Python.ipynb\" target=\"_parent\"><img src=\"https://colab.research.google.com/assets/colab-badge.svg\" alt=\"Open In Colab\"/></a>"
      ]
    },
    {
      "cell_type": "markdown",
      "source": [
        "EstruturaSequencial\n",
        "\n",
        "1. Faça um Programa que mostre a mensagem \"Alo mundo\" na tela.\n",
        "2.Faça um Programa que peça um número e então mostre a mensagem O número informado foi [número].\n",
        "\n",
        "3. Faça um Programa que peça dois números e imprima a soma.\n",
        "4. Faça um Programa que peça as 4 notas bimestrais e mostre a média.\n",
        "5. Faça um Programa que converta metros para centímetros.\n",
        "6. Faça um Programa que peça o raio de um círculo, calcule e mostre sua área.\n",
        "7. Faça um Programa que calcule a área de um quadrado, em seguida mostre o dobro desta área para o usuário.\n",
        "8. Faça um Programa que pergunte quanto você ganha por hora e o número de horas trabalhadas no mês. Calcule e mostre o total do seu salário no referido mês.\n"
      ],
      "metadata": {
        "id": "U5J-V5qFde66"
      }
    },
    {
      "cell_type": "code",
      "execution_count": 1,
      "metadata": {
        "colab": {
          "base_uri": "https://localhost:8080/"
        },
        "id": "hRt1G7dIdaA6",
        "outputId": "847384bf-4cfd-4f27-8002-db796214ffde"
      },
      "outputs": [
        {
          "output_type": "stream",
          "name": "stdout",
          "text": [
            "Olá Mundo\n"
          ]
        }
      ],
      "source": [
        "# Exercicio 1\n",
        "\n",
        "print('Olá Mundo')"
      ]
    },
    {
      "cell_type": "code",
      "source": [
        "# Exercicio 2\n",
        "\n",
        "numero = input('informe um número ')\n",
        "print(f'O número informado foi {numero}')"
      ],
      "metadata": {
        "colab": {
          "base_uri": "https://localhost:8080/"
        },
        "id": "VDkGAObMeuCC",
        "outputId": "57e495c0-c2e6-4656-b4cd-f3ebb5e6bde9"
      },
      "execution_count": 8,
      "outputs": [
        {
          "output_type": "stream",
          "name": "stdout",
          "text": [
            "informe um número 5\n",
            "O número informado foi 5\n"
          ]
        }
      ]
    },
    {
      "cell_type": "code",
      "source": [
        "# Exercicio 3\n",
        "numero_1 = int(input('informe um número '))\n",
        "numero_2 = int(input('Informe outro número '))\n",
        "soma = numero_1 + numero_2\n",
        "print(soma)"
      ],
      "metadata": {
        "colab": {
          "base_uri": "https://localhost:8080/"
        },
        "id": "X0fBK176gAdZ",
        "outputId": "db1f30be-21f4-46cb-920c-96ed20e82c78"
      },
      "execution_count": 15,
      "outputs": [
        {
          "output_type": "stream",
          "name": "stdout",
          "text": [
            "informe um número 5\n",
            "Informe outro número 5\n",
            "10\n"
          ]
        }
      ]
    },
    {
      "cell_type": "code",
      "source": [
        "# Exercicio 4\n",
        "nota_1 = int(input('informe a primeira nota '))\n",
        "nota_2 = int(input('informe a segunda nota '))\n",
        "nota_3 = int(input('informe a terceira nota '))\n",
        "nota_4 = int(input('informe a quarta nota '))\n",
        "\n",
        "soma = (nota_1 + nota_2 + nota_3 + nota_4) / 4\n",
        "\n",
        "print(soma)\n",
        "\n"
      ],
      "metadata": {
        "colab": {
          "base_uri": "https://localhost:8080/"
        },
        "id": "iMQ6jR4wik4r",
        "outputId": "4ab7f57e-48e7-4085-ae9f-2f83760eae70"
      },
      "execution_count": 18,
      "outputs": [
        {
          "output_type": "stream",
          "name": "stdout",
          "text": [
            "informe a primeira nota 5\n",
            "informe a segunda nota 5\n",
            "informe a terceira nota 5\n",
            "informe a quarta nota 5\n",
            "5.0\n"
          ]
        }
      ]
    },
    {
      "cell_type": "code",
      "source": [
        "# Exercicio 5\n",
        "\n",
        "metro = float(input('Informe a quantidade de metros: '))\n",
        "centimetros = metro * 100\n",
        "\n",
        "print(f'{metro} metro é igual a {centimetros} centimetros')"
      ],
      "metadata": {
        "colab": {
          "base_uri": "https://localhost:8080/"
        },
        "id": "Z_c5Krgypif5",
        "outputId": "51d50b56-5cbb-4411-ab0b-9c9faa003b7f"
      },
      "execution_count": 25,
      "outputs": [
        {
          "output_type": "stream",
          "name": "stdout",
          "text": [
            "Informe a quantidade de metros: 1.65\n",
            "1.65 metro é igual a 165.0 centimetros\n"
          ]
        }
      ]
    },
    {
      "cell_type": "code",
      "source": [
        "# Exercicio 8\n",
        "\n",
        "\n",
        "\n"
      ],
      "metadata": {
        "id": "RozgJqJwry65"
      },
      "execution_count": null,
      "outputs": []
    }
  ]
}